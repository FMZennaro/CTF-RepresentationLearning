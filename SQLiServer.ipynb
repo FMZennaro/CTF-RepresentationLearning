{
 "cells": [
  {
   "cell_type": "markdown",
   "id": "silent-train",
   "metadata": {},
   "source": [
    "# SQLi Mock Server\n",
    "\n",
    "Testing the webserver"
   ]
  },
  {
   "cell_type": "code",
   "execution_count": 3,
   "id": "rocky-competition",
   "metadata": {},
   "outputs": [],
   "source": [
    "import os\n",
    "import SQLiServer"
   ]
  },
  {
   "cell_type": "markdown",
   "id": "reported-retreat",
   "metadata": {},
   "source": [
    "Load the HTML files"
   ]
  },
  {
   "cell_type": "code",
   "execution_count": 4,
   "id": "logical-rouge",
   "metadata": {},
   "outputs": [],
   "source": [
    "files = []\n",
    "for f in os.listdir(os.path.join(os.getcwd(),'html')):\n",
    "    fd = open(os.path.join(os.getcwd(),'html',f),'r')\n",
    "    content = fd.read()\n",
    "    files.append(content)\n",
    "    fd.close()\n",
    "    \n",
    "files.append(files[0]*10)"
   ]
  },
  {
   "cell_type": "markdown",
   "id": "composed-wrong",
   "metadata": {},
   "source": [
    "Instantiate the webserver"
   ]
  },
  {
   "cell_type": "code",
   "execution_count": 5,
   "id": "comic-stock",
   "metadata": {},
   "outputs": [
    {
     "data": {
      "text/plain": [
       "('\\n<!-- saved from url=(0033)http://jabba.hackingarena.no:806/ -->\\n<html><head><meta http-equiv=\"Content-Type\" content=\"text/html; charset=UTF-8\"></head><body>Login as admin for the flag!\\n\\n<form action=\"http://jabba.hackingarena.no:806/index.php\" method=\"post\">\\n<table width=\"100\">\\n<tbody><tr><td>Name:</td>\\n<td><input type=\"text\" name=\"username\" value=\"\"></td></tr>\\n<tr><td>Password:</td>\\n<td><input type=\"text\" name=\"passwd\" value=\"\"></td></tr>\\n\\n<tr><td><input type=\"submit\" value=\"Submit\"></td></tr>\\n</tbody></table>\\n</form>\\n\\n</body></html>',\n",
       " 0,\n",
       " False,\n",
       " 'env reset')"
      ]
     },
     "execution_count": 5,
     "metadata": {},
     "output_type": "execute_result"
    }
   ],
   "source": [
    "env = SQLiServer.mockSQLienv(files)\n",
    "env.reset()"
   ]
  },
  {
   "cell_type": "markdown",
   "id": "caroline-vancouver",
   "metadata": {},
   "source": [
    "We check the current solution."
   ]
  },
  {
   "cell_type": "code",
   "execution_count": 9,
   "id": "periodic-yield",
   "metadata": {},
   "outputs": [
    {
     "name": "stdout",
     "output_type": "stream",
     "text": [
      "1\n",
      "0\n"
     ]
    }
   ],
   "source": [
    "S0,S1 = env._get_solution()\n",
    "print(S0)\n",
    "print(S1)"
   ]
  },
  {
   "cell_type": "markdown",
   "id": "quality-thumb",
   "metadata": {},
   "source": [
    "We take a couple of random steps (corresponding to *wrong request*)"
   ]
  },
  {
   "cell_type": "code",
   "execution_count": 10,
   "id": "nervous-flower",
   "metadata": {},
   "outputs": [
    {
     "data": {
      "text/plain": [
       "('\\n<!-- saved from url=(0042)http://jabba.hackingarena.no:806/index.php -->\\n<html><head><meta http-equiv=\"Content-Type\" content=\"text/html; charset=UTF-8\"></head><body>Login as admin for the flag!\\n<br>incorrect login\\n<form action=\"http://jabba.hackingarena.no:806/index.php\" method=\"post\">\\n<table width=\"100\">\\n<tbody><tr><td>Name:</td>\\n<td><input type=\"text\" name=\"username\" value=\"\"></td></tr>\\n<tr><td>Password:</td>\\n<td><input type=\"text\" name=\"passwd\" value=\"\"></td></tr>\\n\\n<tr><td><input type=\"submit\" value=\"Submit\"></td></tr>\\n</tbody></table>\\n</form>\\n\\n</body></html>',\n",
       " -1,\n",
       " False,\n",
       " 'wrong request')"
      ]
     },
     "execution_count": 10,
     "metadata": {},
     "output_type": "execute_result"
    }
   ],
   "source": [
    "env.step(2)"
   ]
  },
  {
   "cell_type": "code",
   "execution_count": 11,
   "id": "offensive-creek",
   "metadata": {},
   "outputs": [
    {
     "data": {
      "text/plain": [
       "('\\n<!-- saved from url=(0042)http://jabba.hackingarena.no:806/index.php -->\\n<html><head><meta http-equiv=\"Content-Type\" content=\"text/html; charset=UTF-8\"></head><body>Login as admin for the flag!\\n<br>incorrect login\\n<form action=\"http://jabba.hackingarena.no:806/index.php\" method=\"post\">\\n<table width=\"100\">\\n<tbody><tr><td>Name:</td>\\n<td><input type=\"text\" name=\"username\" value=\"\"></td></tr>\\n<tr><td>Password:</td>\\n<td><input type=\"text\" name=\"passwd\" value=\"\"></td></tr>\\n\\n<tr><td><input type=\"submit\" value=\"Submit\"></td></tr>\\n</tbody></table>\\n</form>\\n\\n</body></html>',\n",
       " -1,\n",
       " False,\n",
       " 'wrong request')"
      ]
     },
     "execution_count": 11,
     "metadata": {},
     "output_type": "execute_result"
    }
   ],
   "source": [
    "env.step(S1)"
   ]
  },
  {
   "cell_type": "markdown",
   "id": "congressional-millennium",
   "metadata": {},
   "source": [
    "We discover the right escape character."
   ]
  },
  {
   "cell_type": "code",
   "execution_count": 12,
   "id": "attempted-nomination",
   "metadata": {},
   "outputs": [
    {
     "data": {
      "text/plain": [
       "('\\n<!-- saved from url=(0042)http://jabba.hackingarena.no:806/index.php -->\\n<html><head><meta http-equiv=\"Content-Type\" content=\"text/html; charset=UTF-8\"></head><body>Login as admin for the flag!\\n<br>some content, some content\\n<form action=\"http://jabba.hackingarena.no:806/index.php\" method=\"post\">\\n<table width=\"100\">\\n<tbody><tr><td>Name:</td>\\n<td><input type=\"text\" name=\"username\" value=\"\"></td></tr>\\n<tr><td>Password:</td>\\n<td><input type=\"text\" name=\"passwd\" value=\"\"></td></tr>\\n\\n<tr><td><input type=\"submit\" value=\"Submit\"></td></tr>\\n</tbody></table>\\n</form>\\n\\n</body></html>\\n',\n",
       " -1,\n",
       " False,\n",
       " 'correct escape')"
      ]
     },
     "execution_count": 12,
     "metadata": {},
     "output_type": "execute_result"
    }
   ],
   "source": [
    "env.step(S0)"
   ]
  },
  {
   "cell_type": "markdown",
   "id": "dirty-genre",
   "metadata": {},
   "source": [
    "We take another couple of random steps."
   ]
  },
  {
   "cell_type": "code",
   "execution_count": 13,
   "id": "bright-theater",
   "metadata": {},
   "outputs": [
    {
     "data": {
      "text/plain": [
       "('\\n<!-- saved from url=(0042)http://jabba.hackingarena.no:806/index.php -->\\n<html><head><meta http-equiv=\"Content-Type\" content=\"text/html; charset=UTF-8\"></head><body>Login as admin for the flag!\\n<br>incorrect login\\n<form action=\"http://jabba.hackingarena.no:806/index.php\" method=\"post\">\\n<table width=\"100\">\\n<tbody><tr><td>Name:</td>\\n<td><input type=\"text\" name=\"username\" value=\"\"></td></tr>\\n<tr><td>Password:</td>\\n<td><input type=\"text\" name=\"passwd\" value=\"\"></td></tr>\\n\\n<tr><td><input type=\"submit\" value=\"Submit\"></td></tr>\\n</tbody></table>\\n</form>\\n\\n</body></html>',\n",
       " -1,\n",
       " False,\n",
       " 'wrong request')"
      ]
     },
     "execution_count": 13,
     "metadata": {},
     "output_type": "execute_result"
    }
   ],
   "source": [
    "env.step(2)"
   ]
  },
  {
   "cell_type": "code",
   "execution_count": 14,
   "id": "unlike-turtle",
   "metadata": {},
   "outputs": [
    {
     "data": {
      "text/plain": [
       "('\\n<!-- saved from url=(0042)http://jabba.hackingarena.no:806/index.php -->\\n<html><head><meta http-equiv=\"Content-Type\" content=\"text/html; charset=UTF-8\"></head><body>Login as admin for the flag!\\n<br>some content, some content\\n<form action=\"http://jabba.hackingarena.no:806/index.php\" method=\"post\">\\n<table width=\"100\">\\n<tbody><tr><td>Name:</td>\\n<td><input type=\"text\" name=\"username\" value=\"\"></td></tr>\\n<tr><td>Password:</td>\\n<td><input type=\"text\" name=\"passwd\" value=\"\"></td></tr>\\n\\n<tr><td><input type=\"submit\" value=\"Submit\"></td></tr>\\n</tbody></table>\\n</form>\\n\\n</body></html>\\n',\n",
       " -1,\n",
       " False,\n",
       " 'correct escape')"
      ]
     },
     "execution_count": 14,
     "metadata": {},
     "output_type": "execute_result"
    }
   ],
   "source": [
    "env.step(S0)"
   ]
  },
  {
   "cell_type": "markdown",
   "id": "relevant-robin",
   "metadata": {},
   "source": [
    "We find the flag"
   ]
  },
  {
   "cell_type": "code",
   "execution_count": 15,
   "id": "unable-start",
   "metadata": {},
   "outputs": [
    {
     "data": {
      "text/plain": [
       "('\\n<!-- saved from url=(0042)http://jabba.hackingarena.no:806/index.php -->\\n<html><head><meta http-equiv=\"Content-Type\" content=\"text/html; charset=UTF-8\"></head><body>Login as admin for the flag!\\n<br>flag\\n<form action=\"http://jabba.hackingarena.no:806/index.php\" method=\"post\">\\n<table width=\"100\">\\n<tbody><tr><td>Name:</td>\\n<td><input type=\"text\" name=\"username\" value=\"\"></td></tr>\\n<tr><td>Password:</td>\\n<td><input type=\"text\" name=\"passwd\" value=\"\"></td></tr>\\n\\n<tr><td><input type=\"submit\" value=\"Submit\"></td></tr>\\n</tbody></table>\\n</form>\\n\\n</body></html>\\n',\n",
       " 100,\n",
       " True,\n",
       " 'flag')"
      ]
     },
     "execution_count": 15,
     "metadata": {},
     "output_type": "execute_result"
    }
   ],
   "source": [
    "env.step(S1)"
   ]
  }
 ],
 "metadata": {
  "kernelspec": {
   "display_name": "Python 3",
   "language": "python",
   "name": "python3"
  },
  "language_info": {
   "codemirror_mode": {
    "name": "ipython",
    "version": 3
   },
   "file_extension": ".py",
   "mimetype": "text/x-python",
   "name": "python",
   "nbconvert_exporter": "python",
   "pygments_lexer": "ipython3",
   "version": "3.7.9"
  },
  "toc": {
   "base_numbering": 1,
   "nav_menu": {},
   "number_sections": true,
   "sideBar": true,
   "skip_h1_title": false,
   "title_cell": "Table of Contents",
   "title_sidebar": "Contents",
   "toc_cell": false,
   "toc_position": {},
   "toc_section_display": true,
   "toc_window_display": false
  }
 },
 "nbformat": 4,
 "nbformat_minor": 5
}
